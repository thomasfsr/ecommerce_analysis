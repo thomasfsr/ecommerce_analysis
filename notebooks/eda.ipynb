{
 "cells": [
  {
   "cell_type": "code",
   "execution_count": 1,
   "metadata": {},
   "outputs": [],
   "source": [
    "import duckdb\n",
    "import pandas as pd"
   ]
  },
  {
   "cell_type": "code",
   "execution_count": 24,
   "metadata": {},
   "outputs": [],
   "source": [
    "conn = duckdb.connect()"
   ]
  },
  {
   "cell_type": "code",
   "execution_count": 25,
   "metadata": {},
   "outputs": [],
   "source": [
    "df = conn.execute('select * from read_parquet(\"../database/obt.parquet\")').fetchdf()"
   ]
  },
  {
   "cell_type": "code",
   "execution_count": 26,
   "metadata": {},
   "outputs": [
    {
     "data": {
      "text/plain": [
       "Index(['order_id', 'order_item_id', 'product_id', 'seller_id',\n",
       "       'shipping_limit_date', 'price', 'freight_value', 'order_id:1',\n",
       "       'customer_id', 'order_status', 'order_purchase_timestamp',\n",
       "       'order_approved_at', 'order_delivered_carrier_date',\n",
       "       'order_delivered_customer_date', 'order_estimated_delivery_date',\n",
       "       'product_id:1', 'product_category_name', 'product_name_lenght',\n",
       "       'product_description_lenght', 'product_photos_qty', 'product_weight_g',\n",
       "       'product_length_cm', 'product_height_cm', 'product_width_cm',\n",
       "       'seller_id:1', 'seller_zip_code_prefix', 'seller_city', 'seller_state'],\n",
       "      dtype='object')"
      ]
     },
     "execution_count": 26,
     "metadata": {},
     "output_type": "execute_result"
    }
   ],
   "source": [
    "df.columns"
   ]
  },
  {
   "cell_type": "code",
   "execution_count": 27,
   "metadata": {},
   "outputs": [
    {
     "name": "stdout",
     "output_type": "stream",
     "text": [
      "<class 'pandas.core.frame.DataFrame'>\n",
      "RangeIndex: 112650 entries, 0 to 112649\n",
      "Data columns (total 28 columns):\n",
      " #   Column                         Non-Null Count   Dtype         \n",
      "---  ------                         --------------   -----         \n",
      " 0   order_id                       112650 non-null  object        \n",
      " 1   order_item_id                  112650 non-null  int64         \n",
      " 2   product_id                     112650 non-null  object        \n",
      " 3   seller_id                      112650 non-null  object        \n",
      " 4   shipping_limit_date            112650 non-null  datetime64[us]\n",
      " 5   price                          112650 non-null  float64       \n",
      " 6   freight_value                  112650 non-null  float64       \n",
      " 7   order_id:1                     112650 non-null  object        \n",
      " 8   customer_id                    112650 non-null  object        \n",
      " 9   order_status                   112650 non-null  object        \n",
      " 10  order_purchase_timestamp       112650 non-null  datetime64[us]\n",
      " 11  order_approved_at              112635 non-null  datetime64[us]\n",
      " 12  order_delivered_carrier_date   111456 non-null  datetime64[us]\n",
      " 13  order_delivered_customer_date  110196 non-null  datetime64[us]\n",
      " 14  order_estimated_delivery_date  112650 non-null  datetime64[us]\n",
      " 15  product_id:1                   112650 non-null  object        \n",
      " 16  product_category_name          111047 non-null  object        \n",
      " 17  product_name_lenght            111047 non-null  float64       \n",
      " 18  product_description_lenght     111047 non-null  float64       \n",
      " 19  product_photos_qty             111047 non-null  float64       \n",
      " 20  product_weight_g               112632 non-null  float64       \n",
      " 21  product_length_cm              112632 non-null  float64       \n",
      " 22  product_height_cm              112632 non-null  float64       \n",
      " 23  product_width_cm               112632 non-null  float64       \n",
      " 24  seller_id:1                    112650 non-null  object        \n",
      " 25  seller_zip_code_prefix         112650 non-null  object        \n",
      " 26  seller_city                    112650 non-null  object        \n",
      " 27  seller_state                   112650 non-null  object        \n",
      "dtypes: datetime64[us](6), float64(9), int64(1), object(12)\n",
      "memory usage: 24.1+ MB\n"
     ]
    }
   ],
   "source": [
    "df.info()"
   ]
  },
  {
   "cell_type": "code",
   "execution_count": 28,
   "metadata": {},
   "outputs": [],
   "source": [
    "df_clean = df.drop(['order_id:1','product_id:1','seller_id:1'], axis=1)"
   ]
  },
  {
   "cell_type": "code",
   "execution_count": 29,
   "metadata": {},
   "outputs": [
    {
     "data": {
      "text/plain": [
       "'ca3625898fbd48669d50701aba51cd5f'"
      ]
     },
     "execution_count": 29,
     "metadata": {},
     "output_type": "execute_result"
    }
   ],
   "source": [
    "df_clean.groupby('order_id')['product_id'].nunique().idxmax()"
   ]
  }
 ],
 "metadata": {
  "kernelspec": {
   "display_name": "Python 3 (ipykernel)",
   "language": "python",
   "name": "python3"
  },
  "language_info": {
   "codemirror_mode": {
    "name": "ipython",
    "version": 3
   },
   "file_extension": ".py",
   "mimetype": "text/x-python",
   "name": "python",
   "nbconvert_exporter": "python",
   "pygments_lexer": "ipython3",
   "version": "3.11.7"
  }
 },
 "nbformat": 4,
 "nbformat_minor": 2
}
