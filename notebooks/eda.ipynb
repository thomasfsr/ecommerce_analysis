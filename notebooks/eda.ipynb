{
 "cells": [
  {
   "cell_type": "code",
   "execution_count": 17,
   "metadata": {},
   "outputs": [
    {
     "name": "stdout",
     "output_type": "stream",
     "text": [
      "<pyarrow._parquet.ParquetSchema object at 0x7f9cd492ff00>\n",
      "required group field_id=-1 duckdb_schema {\n",
      "  optional binary field_id=-1 column0 (String);\n",
      "  optional binary field_id=-1 column1 (String);\n",
      "  optional binary field_id=-1 column2 (String);\n",
      "  optional binary field_id=-1 column3 (String);\n",
      "  optional binary field_id=-1 column4 (String);\n",
      "}\n",
      "\n"
     ]
    }
   ],
   "source": [
    "from duckdb import connect, execute\n",
    "conn = connect()\n",
    "df = conn.execute('select * from read_parquet(\"../parquet_files/olist_customers_dataset.parquet\")')\n",
    "df = df.fetch_df()\n",
    "df.columns = df.iloc[0]\n",
    "df.drop(index=0, axis=0, inplace=True)\n",
    "df\n",
    "\n",
    "import pyarrow.parquet as pq\n",
    "\n",
    "# Load the Parquet file schema\n",
    "parquet_file = pq.ParquetFile(\"../parquet_files/olist_customers_dataset.parquet\")\n",
    "schema = parquet_file.schema\n",
    "\n",
    "# Print the schema\n",
    "print(schema)"
   ]
  }
 ],
 "metadata": {
  "kernelspec": {
   "display_name": "Python 3 (ipykernel)",
   "language": "python",
   "name": "python3"
  },
  "language_info": {
   "codemirror_mode": {
    "name": "ipython",
    "version": 3
   },
   "file_extension": ".py",
   "mimetype": "text/x-python",
   "name": "python",
   "nbconvert_exporter": "python",
   "pygments_lexer": "ipython3",
   "version": "3.11.7"
  }
 },
 "nbformat": 4,
 "nbformat_minor": 2
}
